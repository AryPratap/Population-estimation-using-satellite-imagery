{
  "nbformat": 4,
  "nbformat_minor": 0,
  "metadata": {
    "colab": {
      "provenance": [],
      "gpuType": "T4"
    },
    "kernelspec": {
      "name": "python3",
      "display_name": "Python 3"
    },
    "language_info": {
      "name": "python"
    },
    "accelerator": "GPU"
  },
  "cells": [
    {
      "cell_type": "code",
      "execution_count": null,
      "metadata": {
        "colab": {
          "base_uri": "https://localhost:8080/"
        },
        "id": "l270TkEDJcto",
        "outputId": "c79b5a45-fe11-487c-a717-f648e7516d95"
      },
      "outputs": [
        {
          "output_type": "stream",
          "name": "stdout",
          "text": [
            "Mounted at /content/drive\n"
          ]
        }
      ],
      "source": [
        "from google.colab import drive\n",
        "drive.mount('/content/drive',force_remount = True)"
      ]
    },
    {
      "cell_type": "code",
      "source": [
        "dataset_path = \"/content/drive/MyDrive/population density satellite data/Dataset\""
      ],
      "metadata": {
        "id": "btj8xHgPJof7"
      },
      "execution_count": null,
      "outputs": []
    },
    {
      "cell_type": "code",
      "source": [
        "import os\n",
        "files = os.listdir(dataset_path)"
      ],
      "metadata": {
        "id": "H0I0Trr5KJHx"
      },
      "execution_count": null,
      "outputs": []
    },
    {
      "cell_type": "code",
      "source": [
        "len(files)"
      ],
      "metadata": {
        "colab": {
          "base_uri": "https://localhost:8080/"
        },
        "id": "0ecft1M_QaVN",
        "outputId": "cc88aefc-425f-4879-80ae-f3a570e172d7"
      },
      "execution_count": null,
      "outputs": [
        {
          "output_type": "execute_result",
          "data": {
            "text/plain": [
              "7012"
            ]
          },
          "metadata": {},
          "execution_count": 4
        }
      ]
    },
    {
      "cell_type": "code",
      "source": [
        "\n",
        "filers = []\n",
        "for file in files:\n",
        "\n",
        "  filers.append(file)\n"
      ],
      "metadata": {
        "id": "U3exeFoMQo8j"
      },
      "execution_count": null,
      "outputs": []
    },
    {
      "cell_type": "code",
      "source": [
        "from __future__ import division, print_function, absolute_import\n",
        "print('Importing libraries...')\n",
        "import pickle\n",
        "#import matplotlib.pyplot as plt\n",
        "import numpy as np\n",
        "import pandas as pd\n",
        "import tensorflow as tf\n",
        "from PIL import Image\n",
        "from skimage import transform #For downsizing images\n",
        "from sklearn.model_selection import train_test_split"
      ],
      "metadata": {
        "colab": {
          "base_uri": "https://localhost:8080/"
        },
        "id": "-AwRGbY2RfBW",
        "outputId": "e4239566-7657-4f84-cb9a-c6de7fe205b7"
      },
      "execution_count": null,
      "outputs": [
        {
          "output_type": "stream",
          "name": "stdout",
          "text": [
            "Importing libraries...\n"
          ]
        }
      ]
    },
    {
      "cell_type": "code",
      "source": [
        "# Creating features dataset\n",
        "# unpickling the image files\n",
        "with open ('/content/drive/MyDrive/population density satellite data/dataX', 'rb') as fp:\n",
        "    dataX = pickle.load(fp)\n",
        "print('Features dataset finished with shape', dataX.shape)\n"
      ],
      "metadata": {
        "id": "fQumCXTbSfrV",
        "colab": {
          "base_uri": "https://localhost:8080/"
        },
        "outputId": "eebd1dc4-1f5b-4963-985e-e00223e3137b"
      },
      "execution_count": null,
      "outputs": [
        {
          "output_type": "stream",
          "name": "stdout",
          "text": [
            "Features dataset finished with shape (7000, 200, 200, 3)\n"
          ]
        }
      ]
    },
    {
      "cell_type": "code",
      "source": [
        "# unpickling labels file\n",
        "with open ('/content/drive/MyDrive/population density satellite data/dataY', 'rb') as fp:\n",
        "    dataY = pickle.load(fp)\n",
        "print('Labels dataset finished with shape', dataY.shape)"
      ],
      "metadata": {
        "id": "ManBFQ0CQf1C",
        "colab": {
          "base_uri": "https://localhost:8080/"
        },
        "outputId": "a01159ee-6481-497e-a000-ced6cb51ab57"
      },
      "execution_count": null,
      "outputs": [
        {
          "output_type": "stream",
          "name": "stdout",
          "text": [
            "Labels dataset finished with shape (7000,)\n"
          ]
        }
      ]
    },
    {
      "cell_type": "code",
      "source": [
        "X_train = []\n",
        "X_test = []\n",
        "Y_train = []\n",
        "Y_test = []"
      ],
      "metadata": {
        "id": "toQMGuHPphQf"
      },
      "execution_count": null,
      "outputs": []
    },
    {
      "cell_type": "code",
      "source": [
        "dataX.shape[0]"
      ],
      "metadata": {
        "colab": {
          "base_uri": "https://localhost:8080/"
        },
        "id": "lMIwFOIspmeE",
        "outputId": "74931d0b-13d0-4504-e585-c0e56f74e7be"
      },
      "execution_count": null,
      "outputs": [
        {
          "output_type": "execute_result",
          "data": {
            "text/plain": [
              "7000"
            ]
          },
          "metadata": {},
          "execution_count": 29
        }
      ]
    },
    {
      "cell_type": "code",
      "source": [
        "for n in range(dataX.shape[0]):\n",
        "    if not n%10:\n",
        "        X_train.append(dataX[n])\n",
        "        X_train.append(dataX[n+1])\n",
        "        X_train.append(dataX[n+2])\n",
        "        X_train.append(dataX[n+3])\n",
        "        X_train.append(dataX[n+4])\n",
        "        X_train.append(dataX[n+5])\n",
        "        X_train.append(dataX[n+6])\n",
        "        X_train.append(dataX[n+7])\n",
        "        X_test.append(dataX[n+8])\n",
        "        X_test.append(dataX[n+9])\n",
        "\n",
        "        Y_train.append(dataY[n])\n",
        "        Y_train.append(dataY[n+1])\n",
        "        Y_train.append(dataY[n+2])\n",
        "        Y_train.append(dataY[n+3])\n",
        "        Y_train.append(dataY[n+4])\n",
        "        Y_train.append(dataY[n+5])\n",
        "        Y_train.append(dataY[n+6])\n",
        "        Y_train.append(dataY[n+7])\n",
        "        Y_test.append(dataY[n+8])\n",
        "        Y_test.append(dataY[n+9])"
      ],
      "metadata": {
        "id": "UHOwmO5cpr10"
      },
      "execution_count": null,
      "outputs": []
    },
    {
      "cell_type": "code",
      "source": [
        "X_train = np.array(X_train)\n",
        "X_test = np.array(X_test)\n",
        "Y_train = np.array(Y_train)\n",
        "Y_test = np.array(Y_test)\n",
        "\n",
        "print(X_train.shape, X_test.shape, Y_train.shape, Y_test.shape)"
      ],
      "metadata": {
        "colab": {
          "base_uri": "https://localhost:8080/"
        },
        "id": "C453uJPtpzHr",
        "outputId": "b82d6e69-709c-42b8-9ecd-f0c02f1b6a88"
      },
      "execution_count": null,
      "outputs": [
        {
          "output_type": "stream",
          "name": "stdout",
          "text": [
            "(5600, 200, 200, 3) (1400, 200, 200, 3) (5600,) (1400,)\n"
          ]
        }
      ]
    },
    {
      "cell_type": "code",
      "source": [
        "def classify(t):\n",
        "    i = 0\n",
        "    for n in t:\n",
        "        if (n<1):\n",
        "            t[i] = 0\n",
        "            i+=1\n",
        "        if (1<=n) and (n<10):\n",
        "            t[i] = 1\n",
        "            i+=1\n",
        "        if (10<=n) and (n<50):\n",
        "            t[i] = 2\n",
        "            i+=1\n",
        "        if (50<=n) and (n<100):\n",
        "            t[i] = 3\n",
        "            i+=1\n",
        "        if (100<=n) and (n<500):\n",
        "            t[i] = 4\n",
        "            i+=1\n",
        "        if (500<=n) and (n<1000):\n",
        "            t[i] = 5\n",
        "            i+=1\n",
        "        if (1000<=n) and (n<2000):\n",
        "            t[i] = 6\n",
        "            i+=1\n",
        "        if (2000<=n):\n",
        "            t[i] = 7\n",
        "            i+=1\n",
        "    return t"
      ],
      "metadata": {
        "id": "SwRWmCrfqR6c"
      },
      "execution_count": null,
      "outputs": []
    },
    {
      "cell_type": "code",
      "source": [
        "Y_train = classify(Y_train)\n",
        "Y_test = classify(Y_test)"
      ],
      "metadata": {
        "id": "A-tH3L8Yuudv"
      },
      "execution_count": null,
      "outputs": []
    },
    {
      "cell_type": "code",
      "source": [
        "Y_train"
      ],
      "metadata": {
        "colab": {
          "base_uri": "https://localhost:8080/"
        },
        "id": "76lEB54Vu4Eh",
        "outputId": "2c6ed1ee-1250-4dcc-e5ab-5704129ef48b"
      },
      "execution_count": null,
      "outputs": [
        {
          "output_type": "execute_result",
          "data": {
            "text/plain": [
              "array([2., 2., 2., ..., 4., 4., 3.])"
            ]
          },
          "metadata": {},
          "execution_count": 34
        }
      ]
    },
    {
      "cell_type": "code",
      "source": [
        "import numpy as np\n",
        "import tensorflow as tf\n",
        "from tensorflow.keras.applications import VGG16\n",
        "from tensorflow.keras.models import Sequential\n",
        "from tensorflow.keras.layers import Flatten, Dense, Dropout\n",
        "from tensorflow.keras.utils import to_categorical"
      ],
      "metadata": {
        "id": "hV5AoGN1u5FZ"
      },
      "execution_count": null,
      "outputs": []
    },
    {
      "cell_type": "code",
      "source": [
        "# Convert labels to one-hot encoding\n",
        "Y_train = to_categorical(Y_train - 1, num_classes=8)\n",
        "Y_test = to_categorical(Y_test - 1, num_classes=8)"
      ],
      "metadata": {
        "id": "xz4j64uau_QF"
      },
      "execution_count": null,
      "outputs": []
    },
    {
      "cell_type": "code",
      "source": [
        "base_model = VGG16(weights='imagenet', include_top=False, input_shape=(200, 200, 3))"
      ],
      "metadata": {
        "id": "2-YzbZBivAyc"
      },
      "execution_count": null,
      "outputs": []
    },
    {
      "cell_type": "code",
      "source": [
        "for layer in base_model.layers:\n",
        "    layer.trainable = False"
      ],
      "metadata": {
        "id": "H3nIzJ5UvEDe"
      },
      "execution_count": null,
      "outputs": []
    },
    {
      "cell_type": "code",
      "source": [
        "# Create a new model\n",
        "model = Sequential()\n",
        "model.add(base_model)\n",
        "model.add(Flatten())\n",
        "model.add(Dense(256, activation='relu'))\n",
        "model.add(Dropout(0.5))\n",
        "model.add(Dense(8, activation='softmax'))"
      ],
      "metadata": {
        "id": "MrPWZlj9vGSt"
      },
      "execution_count": null,
      "outputs": []
    },
    {
      "cell_type": "code",
      "source": [
        "# Compile the model\n",
        "model.compile(optimizer='adam', loss='categorical_crossentropy', metrics=['accuracy'])"
      ],
      "metadata": {
        "id": "_bgVPOg9vJS2"
      },
      "execution_count": null,
      "outputs": []
    },
    {
      "cell_type": "code",
      "source": [
        "#train model\n",
        "history = model.fit(X_train, Y_train, epochs=40, batch_size=32, validation_data=(X_test, Y_test))"
      ],
      "metadata": {
        "colab": {
          "base_uri": "https://localhost:8080/"
        },
        "id": "hgkcMvg_vLep",
        "outputId": "90b40344-d887-4686-8311-471d15dfd09d"
      },
      "execution_count": null,
      "outputs": [
        {
          "output_type": "stream",
          "name": "stdout",
          "text": [
            "Epoch 1/40\n",
            "175/175 [==============================] - 27s 148ms/step - loss: 3.3071 - accuracy: 0.3779 - val_loss: 1.4088 - val_accuracy: 0.4693\n",
            "Epoch 2/40\n",
            "175/175 [==============================] - 31s 175ms/step - loss: 1.5166 - accuracy: 0.4507 - val_loss: 1.3375 - val_accuracy: 0.4914\n",
            "Epoch 3/40\n",
            "175/175 [==============================] - 26s 150ms/step - loss: 1.3747 - accuracy: 0.4841 - val_loss: 1.3304 - val_accuracy: 0.5064\n",
            "Epoch 4/40\n",
            "175/175 [==============================] - 26s 151ms/step - loss: 1.3072 - accuracy: 0.5143 - val_loss: 1.3275 - val_accuracy: 0.4950\n",
            "Epoch 5/40\n",
            "175/175 [==============================] - 26s 148ms/step - loss: 1.2503 - accuracy: 0.5311 - val_loss: 1.2951 - val_accuracy: 0.5043\n",
            "Epoch 6/40\n",
            "175/175 [==============================] - 31s 177ms/step - loss: 1.1989 - accuracy: 0.5368 - val_loss: 1.3481 - val_accuracy: 0.4943\n",
            "Epoch 7/40\n",
            "175/175 [==============================] - 31s 179ms/step - loss: 1.1457 - accuracy: 0.5546 - val_loss: 1.2417 - val_accuracy: 0.5329\n",
            "Epoch 8/40\n",
            "175/175 [==============================] - 26s 150ms/step - loss: 1.1220 - accuracy: 0.5534 - val_loss: 1.2010 - val_accuracy: 0.5479\n",
            "Epoch 9/40\n",
            "175/175 [==============================] - 31s 179ms/step - loss: 1.0884 - accuracy: 0.5586 - val_loss: 1.2607 - val_accuracy: 0.5264\n",
            "Epoch 10/40\n",
            "175/175 [==============================] - 26s 148ms/step - loss: 1.0603 - accuracy: 0.5782 - val_loss: 1.3355 - val_accuracy: 0.5379\n",
            "Epoch 11/40\n",
            "175/175 [==============================] - 31s 180ms/step - loss: 1.0470 - accuracy: 0.5845 - val_loss: 1.2073 - val_accuracy: 0.5314\n",
            "Epoch 12/40\n",
            "175/175 [==============================] - 31s 177ms/step - loss: 1.0152 - accuracy: 0.5927 - val_loss: 1.3219 - val_accuracy: 0.5486\n",
            "Epoch 13/40\n",
            "175/175 [==============================] - 31s 179ms/step - loss: 0.9693 - accuracy: 0.6137 - val_loss: 1.3638 - val_accuracy: 0.5486\n",
            "Epoch 14/40\n",
            "175/175 [==============================] - 26s 150ms/step - loss: 0.9901 - accuracy: 0.6137 - val_loss: 1.2533 - val_accuracy: 0.5421\n",
            "Epoch 15/40\n",
            "175/175 [==============================] - 31s 179ms/step - loss: 0.9557 - accuracy: 0.6257 - val_loss: 1.3204 - val_accuracy: 0.5386\n",
            "Epoch 16/40\n",
            "175/175 [==============================] - 31s 177ms/step - loss: 0.9450 - accuracy: 0.6204 - val_loss: 1.4144 - val_accuracy: 0.5471\n",
            "Epoch 17/40\n",
            "175/175 [==============================] - 26s 151ms/step - loss: 0.9412 - accuracy: 0.6218 - val_loss: 1.3004 - val_accuracy: 0.5450\n",
            "Epoch 18/40\n",
            "175/175 [==============================] - 26s 150ms/step - loss: 0.8885 - accuracy: 0.6463 - val_loss: 1.2833 - val_accuracy: 0.5593\n",
            "Epoch 19/40\n",
            "175/175 [==============================] - 31s 177ms/step - loss: 0.8739 - accuracy: 0.6596 - val_loss: 1.4223 - val_accuracy: 0.5607\n",
            "Epoch 20/40\n",
            "175/175 [==============================] - 26s 149ms/step - loss: 0.8648 - accuracy: 0.6525 - val_loss: 1.4426 - val_accuracy: 0.5464\n",
            "Epoch 21/40\n",
            "175/175 [==============================] - 26s 151ms/step - loss: 0.8345 - accuracy: 0.6675 - val_loss: 1.4587 - val_accuracy: 0.5593\n",
            "Epoch 22/40\n",
            "175/175 [==============================] - 31s 177ms/step - loss: 0.8382 - accuracy: 0.6718 - val_loss: 1.5450 - val_accuracy: 0.5629\n",
            "Epoch 23/40\n",
            "175/175 [==============================] - 31s 177ms/step - loss: 0.8481 - accuracy: 0.6623 - val_loss: 1.4043 - val_accuracy: 0.5629\n",
            "Epoch 24/40\n",
            "175/175 [==============================] - 26s 151ms/step - loss: 0.8520 - accuracy: 0.6673 - val_loss: 1.3835 - val_accuracy: 0.5614\n",
            "Epoch 25/40\n",
            "175/175 [==============================] - 31s 178ms/step - loss: 0.8518 - accuracy: 0.6718 - val_loss: 1.3745 - val_accuracy: 0.5664\n",
            "Epoch 26/40\n",
            "175/175 [==============================] - 31s 176ms/step - loss: 0.8036 - accuracy: 0.6891 - val_loss: 1.4498 - val_accuracy: 0.5629\n",
            "Epoch 27/40\n",
            "175/175 [==============================] - 31s 180ms/step - loss: 0.8523 - accuracy: 0.6902 - val_loss: 1.4923 - val_accuracy: 0.5550\n",
            "Epoch 28/40\n",
            "175/175 [==============================] - 31s 177ms/step - loss: 0.8168 - accuracy: 0.6911 - val_loss: 1.4702 - val_accuracy: 0.5457\n",
            "Epoch 29/40\n",
            "175/175 [==============================] - 31s 178ms/step - loss: 0.8184 - accuracy: 0.6893 - val_loss: 1.8998 - val_accuracy: 0.5414\n",
            "Epoch 30/40\n",
            "175/175 [==============================] - 26s 150ms/step - loss: 0.7775 - accuracy: 0.6977 - val_loss: 1.6289 - val_accuracy: 0.5657\n",
            "Epoch 31/40\n",
            "175/175 [==============================] - 31s 179ms/step - loss: 0.7619 - accuracy: 0.7063 - val_loss: 1.6819 - val_accuracy: 0.5579\n",
            "Epoch 32/40\n",
            "175/175 [==============================] - 31s 176ms/step - loss: 0.7660 - accuracy: 0.7045 - val_loss: 1.5111 - val_accuracy: 0.5721\n",
            "Epoch 33/40\n",
            "175/175 [==============================] - 31s 180ms/step - loss: 0.7534 - accuracy: 0.7159 - val_loss: 1.6471 - val_accuracy: 0.5500\n",
            "Epoch 34/40\n",
            "175/175 [==============================] - 31s 177ms/step - loss: 0.7454 - accuracy: 0.7120 - val_loss: 1.6285 - val_accuracy: 0.5514\n",
            "Epoch 35/40\n",
            "175/175 [==============================] - 31s 178ms/step - loss: 0.7375 - accuracy: 0.7138 - val_loss: 1.5893 - val_accuracy: 0.5607\n",
            "Epoch 36/40\n",
            "175/175 [==============================] - 26s 151ms/step - loss: 0.7498 - accuracy: 0.7118 - val_loss: 1.6941 - val_accuracy: 0.5400\n",
            "Epoch 37/40\n",
            "175/175 [==============================] - 31s 179ms/step - loss: 0.7012 - accuracy: 0.7277 - val_loss: 1.9645 - val_accuracy: 0.5529\n",
            "Epoch 38/40\n",
            "175/175 [==============================] - 26s 148ms/step - loss: 0.7548 - accuracy: 0.7209 - val_loss: 1.6868 - val_accuracy: 0.5564\n",
            "Epoch 39/40\n",
            "175/175 [==============================] - 31s 180ms/step - loss: 0.7486 - accuracy: 0.7321 - val_loss: 1.9724 - val_accuracy: 0.5514\n",
            "Epoch 40/40\n",
            "175/175 [==============================] - 32s 181ms/step - loss: 0.7355 - accuracy: 0.7234 - val_loss: 1.7777 - val_accuracy: 0.5636\n"
          ]
        }
      ]
    },
    {
      "cell_type": "code",
      "source": [
        "import matplotlib.pyplot as plt\n",
        "\n",
        "def plot_accuracy(history):\n",
        "    # Plot training & validation loss values\n",
        "    plt.figure(figsize=(10, 6))\n",
        "    plt.plot(history.history['accuracy'])\n",
        "    plt.plot(history.history['val_accuracy'])\n",
        "    plt.title('Model accuracy')\n",
        "    plt.xlabel('Epoch')\n",
        "    plt.ylabel('accuracy')\n",
        "    plt.legend(['Train', 'Validation'], loc='upper right')\n",
        "    plt.show()\n",
        "\n",
        "# After training your model, call the plot_loss function with the training history\n",
        "plot_accuracy(history)"
      ],
      "metadata": {
        "colab": {
          "base_uri": "https://localhost:8080/",
          "height": 564
        },
        "id": "RymC32OIv3mj",
        "outputId": "bdebb948-0fcd-40bf-f730-af4ec8c7d7f4"
      },
      "execution_count": null,
      "outputs": [
        {
          "output_type": "display_data",
          "data": {
            "text/plain": [
              "<Figure size 1000x600 with 1 Axes>"
            ],
            "image/png": "[encoded data removed]"
          },
          "metadata": {}
        }
      ]
    },
    {
      "cell_type": "code",
      "source": [],
      "metadata": {
        "id": "3Eb797121h0F"
      },
      "execution_count": null,
      "outputs": []
    }
  ]
}